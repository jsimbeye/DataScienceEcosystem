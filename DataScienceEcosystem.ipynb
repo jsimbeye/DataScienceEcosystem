{
 "cells": [
  {
   "cell_type": "markdown",
   "id": "327449e9-5533-40b1-a8c4-c7b7a8dd5692",
   "metadata": {},
   "source": [
    "# Data Science Tools and Ecosystem"
   ]
  },
  {
   "cell_type": "markdown",
   "id": "378f5969-8557-47c9-93aa-7d713db22a80",
   "metadata": {},
   "source": [
    "In this notebook, Data Science Tools and Ecosystem are summarized."
   ]
  },
  {
   "cell_type": "markdown",
   "id": "51799cea-8f7b-4efb-a856-6c38ebfb5b22",
   "metadata": {},
   "source": [
    "Some of the popular languages that Data Scientists use are:\n",
    "1. Python\n",
    "2. R\n",
    "3. Apache spark"
   ]
  },
  {
   "cell_type": "markdown",
   "id": "71d27b29-0abc-44d5-ab8f-e27472e6a846",
   "metadata": {},
   "source": [
    "__Objectives:__"
   ]
  },
  {
   "cell_type": "markdown",
   "id": "62861ddc-a83e-410d-93d4-f25e4c4963a3",
   "metadata": {},
   "source": [
    "- List popular languages for Data Science\n",
    "- List popular libraries for data visualization in R\n",
    "- Create a repository on GitHub"
   ]
  },
  {
   "cell_type": "markdown",
   "id": "141e0d1b-53ed-49bb-902a-0e0df4656e8b",
   "metadata": {},
   "source": [
    "Some of the commonly used libraries by Data Scientists include:\n",
    "1. NumPy\n",
    "2. TensorFlow\n",
    "3. Seaborn\n"
   ]
  },
  {
   "cell_type": "markdown",
   "id": "0930926b-dbcf-412a-a59d-d661d5ed27c2",
   "metadata": {},
   "source": [
    "|Data Science Tools |\n",
    "|------------------ |\n",
    "| Python |\n",
    "| R |\n",
    "| Git/GitHub |"
   ]
  },
  {
   "cell_type": "markdown",
   "id": "c1392464-d48a-4032-9e3b-8af05f326c14",
   "metadata": {},
   "source": [
    "Below are a few examples of evaluating arithmetic expressions in Python"
   ]
  },
  {
   "cell_type": "code",
   "execution_count": 4,
   "id": "ec83359d-c6b3-4620-88dc-3ca7b5d56e96",
   "metadata": {},
   "outputs": [
    {
     "data": {
      "text/plain": [
       "17"
      ]
     },
     "execution_count": 4,
     "metadata": {},
     "output_type": "execute_result"
    }
   ],
   "source": [
    "# This a simple arithmetic expression to mutiply then add integers\n",
    "(3*4)+5"
   ]
  },
  {
   "cell_type": "code",
   "execution_count": 5,
   "id": "95e1f379-d309-4485-bb71-593053842186",
   "metadata": {},
   "outputs": [
    {
     "data": {
      "text/plain": [
       "3.3333333333333335"
      ]
     },
     "execution_count": 5,
     "metadata": {},
     "output_type": "execute_result"
    }
   ],
   "source": [
    "# This will convert 200 minutes to hours by diving by 60\n",
    "200/60"
   ]
  },
  {
   "cell_type": "markdown",
   "id": "bc102820-0d86-49ed-aca2-52bc8995cd74",
   "metadata": {},
   "source": [
    "## Author\n",
    "Jupiter Simbeye"
   ]
  },
  {
   "cell_type": "code",
   "execution_count": null,
   "id": "f232bee9-b444-401b-bbf5-dc6b9ac0674c",
   "metadata": {},
   "outputs": [],
   "source": []
  }
 ],
 "metadata": {
  "kernelspec": {
   "display_name": "Python 3 (ipykernel)",
   "language": "python",
   "name": "python3"
  },
  "language_info": {
   "codemirror_mode": {
    "name": "ipython",
    "version": 3
   },
   "file_extension": ".py",
   "mimetype": "text/x-python",
   "name": "python",
   "nbconvert_exporter": "python",
   "pygments_lexer": "ipython3",
   "version": "3.11.8"
  }
 },
 "nbformat": 4,
 "nbformat_minor": 5
}
